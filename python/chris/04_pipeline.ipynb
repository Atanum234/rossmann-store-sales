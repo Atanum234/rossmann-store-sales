{
 "cells": [
  {
   "cell_type": "code",
   "execution_count": 1,
   "metadata": {
    "collapsed": false
   },
   "outputs": [
    {
     "name": "stderr",
     "output_type": "stream",
     "text": [
      "/home/ckoerner/.local/lib/python3.4/site-packages/IPython/core/interactiveshell.py:2871: DtypeWarning: Columns (7) have mixed types. Specify dtype option on import or set low_memory=False.\n",
      "  interactivity=interactivity, compiler=compiler, result=result)\n"
     ]
    }
   ],
   "source": [
    "%matplotlib inline\n",
    "\n",
    "import pandas as pd\n",
    "import numpy as np\n",
    "\n",
    "# Import all utility functions\n",
    "import utils\n",
    "import skutils\n",
    "\n",
    "stores = pd.read_csv('../data/store.csv')\n",
    "train = pd.read_csv('../data/train.csv', parse_dates = ['Date'])\n",
    "test = pd.read_csv('../data/test.csv', parse_dates = ['Date'])"
   ]
  },
  {
   "cell_type": "markdown",
   "metadata": {},
   "source": [
    "## Data Pre-Processing and Feature Extraction"
   ]
  },
  {
   "cell_type": "code",
   "execution_count": 2,
   "metadata": {
    "collapsed": false,
    "scrolled": true
   },
   "outputs": [],
   "source": [
    "def transform(input_data, store_data):\n",
    "    \n",
    "    # Create a copy of the data\n",
    "    data = input_data.copy()\n",
    "\n",
    "    # Merge the Store information to the data\n",
    "    data = data.merge(store_data, on='Store')\n",
    "    data.drop(['Store'], axis=1, inplace=True)\n",
    "    \n",
    "    if 'Sales' not in data.columns:\n",
    "        # Merge creates new Ids, so we need to reset the Ids\n",
    "        # on the Id column for the test set\n",
    "        data.set_index('Id', inplace=True)    \n",
    "    \n",
    "    # Process the Date field\n",
    "    data['year'] = data.Date.apply(lambda x: x.year)\n",
    "    data['month'] = data.Date.apply(lambda x: x.month)\n",
    "    # data['day'] = data.Date.apply(lambda x: x.day)\n",
    "    data['woy'] = data.Date.apply(lambda x: x.weekofyear)\n",
    "    data.drop(['Date'], axis = 1, inplace=True)\n",
    "    \n",
    "    # Process the Competition Open fields\n",
    "    data['CompetitionOpen'] = 12 * (data.year - data.CompetitionOpenSinceYear) + (data.month - data.CompetitionOpenSinceMonth)\n",
    "    data['CompetitionOpen'] = data.CompetitionOpen.apply(lambda x: x if x > 0 else 0)\n",
    "    data.drop(['CompetitionOpenSinceMonth', 'CompetitionOpenSinceYear'], axis=1, inplace=True)\n",
    "    \n",
    "    # Process the Promo Open field\n",
    "    data['PromoOpen'] = 12 * (data.year - data.Promo2SinceYear) + (data.woy - data.Promo2SinceWeek) / float(4)\n",
    "    data['PromoOpen'] = data.CompetitionOpen.apply(lambda x: x if x > 0 else 0)\n",
    "    data.drop(['Promo2SinceYear', 'Promo2SinceWeek'], axis=1, inplace=True)\n",
    "    \n",
    "    # Get promo months\n",
    "    data['p_1'] = data.PromoInterval.apply(lambda x: x[:3] if type(x) == str else 0)\n",
    "    data['p_2'] = data.PromoInterval.apply(lambda x: x[4:7] if type(x) == str else 0)\n",
    "    data['p_3'] = data.PromoInterval.apply(lambda x: x[8:11] if type(x) == str else 0)\n",
    "    data['p_4'] = data.PromoInterval.apply(lambda x: x[12:15] if type(x) == str else 0)\n",
    "\n",
    "    # Get dummies for promo months\n",
    "    data = pd.get_dummies(data, columns = ['p_1', 'p_2', 'p_3', 'p_4'])\n",
    "    data.drop(['p_1_0', 'p_2_0', 'p_3_0', 'p_4_0'], axis=1, inplace=True)\n",
    "    \n",
    "    # Normalize State Holiday field\n",
    "    data['StateHoliday'] = data.StateHoliday.apply(lambda x: x if x in ['a', 'b', 'c'] else 0)\n",
    "    \n",
    "    # Dummy Coding\n",
    "    for dummy in ['StateHoliday', 'StoreType', 'Assortment', 'DayOfWeek']:\n",
    "        # Create dummy columns\n",
    "        data = pd.get_dummies(data, columns=[dummy])\n",
    "        \n",
    "        # Remove original column\n",
    "        if dummy in data.columns:\n",
    "            data.drop([dummy], axis=1, inplace=True)\n",
    "    \n",
    "    # Fix State Holiday columns, some values are not present in the testing data\n",
    "    for col in ['StateHoliday_0', 'StateHoliday_a', 'StateHoliday_b', 'StateHoliday_c']:\n",
    "        if col not in data.columns:\n",
    "            data[col] = np.zeros(len(data.index))\n",
    "    \n",
    "    # Drop unused Columns\n",
    "    data.drop(['PromoInterval'], axis=1, inplace=True)\n",
    "    \n",
    "    # Make sure columns are sorted\n",
    "    data = data.reindex_axis(sorted(data.columns), axis=1)\n",
    "    \n",
    "    # training data\n",
    "    if 'Sales' in data.columns:\n",
    "\n",
    "        # Consider only open stores for training. Closed stores wont count into the score\n",
    "        data = data[data.Open != 0]\n",
    "    \n",
    "        # Use only Sales bigger then zero\n",
    "        data = data[data.Sales > 0]\n",
    "\n",
    "        # Outlier Removal, exclude values bigger than 3 x std\n",
    "        data = data[((data.Sales - data.Sales.mean()) / data.Sales.std()).abs() < 3]\n",
    "        \n",
    "        return data.drop(['Sales', 'Customers'], axis=1), data.Sales\n",
    "    \n",
    "    # testing data\n",
    "    else:\n",
    "        return data,\n",
    "\n",
    "def zeroWhenClosed(X, y):\n",
    "    y = np.array(y)\n",
    "    y[X['Open'] != 1] = 0\n",
    "    return y"
   ]
  },
  {
   "cell_type": "code",
   "execution_count": 3,
   "metadata": {
    "collapsed": false
   },
   "outputs": [],
   "source": [
    "X_train, y_train = transform(train, stores)\n",
    "\n",
    "# Create a simple log1p transform\n",
    "yProcessor = skutils.Log1pTransform()\n",
    "\n",
    "# Transform the training values\n",
    "y_train = yProcessor.transform(y_train)"
   ]
  },
  {
   "cell_type": "markdown",
   "metadata": {},
   "source": [
    "## Estimator Pipeline"
   ]
  },
  {
   "cell_type": "code",
   "execution_count": 4,
   "metadata": {
    "collapsed": false
   },
   "outputs": [],
   "source": [
    "from sklearn.pipeline import Pipeline\n",
    "from sklearn.ensemble import RandomForestRegressor\n",
    "\n",
    "# Random Forest Regression parameters\n",
    "rfr_params = {\n",
    "  'n_estimators': 20\n",
    "}\n",
    "\n",
    "# Initialize Estimators\n",
    "estimators = [\n",
    "    ('nan', skutils.NanPreProcessor([\n",
    "        ('CompetitionDistance', 100000),\n",
    "        ('Open', 1),\n",
    "    ], nan=0)),\n",
    "    ('values', skutils.PandasTransform()),\n",
    "    ('forest', RandomForestRegressor(random_state=42, **rfr_params)),\n",
    "]\n",
    "\n",
    "# Create a Pipe\n",
    "clf = Pipeline(estimators)"
   ]
  },
  {
   "cell_type": "markdown",
   "metadata": {},
   "source": [
    "## Cross Validation"
   ]
  },
  {
   "cell_type": "code",
   "execution_count": 5,
   "metadata": {
    "collapsed": false
   },
   "outputs": [
    {
     "name": "stdout",
     "output_type": "stream",
     "text": [
      "Cross validation score -0.20870272 (+- 0.07662819)\n"
     ]
    }
   ],
   "source": [
    "scores = skutils.cross_val(clf, X_train, y_train, scoring=utils.rmspe_log1p)\n",
    "\n",
    "print(\"Cross validation score %.8f (+- %.8f)\" % (scores.mean(), scores.std()))"
   ]
  },
  {
   "cell_type": "markdown",
   "metadata": {},
   "source": [
    "## Full Training and Prediction"
   ]
  },
  {
   "cell_type": "code",
   "execution_count": 6,
   "metadata": {
    "collapsed": false
   },
   "outputs": [],
   "source": [
    "X_test, = transform(test, stores)"
   ]
  },
  {
   "cell_type": "code",
   "execution_count": 7,
   "metadata": {
    "collapsed": false
   },
   "outputs": [
    {
     "name": "stderr",
     "output_type": "stream",
     "text": [
      "/home/ckoerner/.local/lib/python3.4/site-packages/IPython/kernel/__main__.py:85: FutureWarning: in the future, boolean array-likes will be handled as a boolean array index\n"
     ]
    }
   ],
   "source": [
    "clf.fit(X_train, y_train.values)\n",
    "y_pred = clf.predict(X_test)\n",
    "\n",
    "# Inverse transform for the predictions\n",
    "y_pred = yProcessor.inverse_transform(y_pred)\n",
    "y_pred = zeroWhenClosed(X_test, y_pred)"
   ]
  },
  {
   "cell_type": "code",
   "execution_count": 8,
   "metadata": {
    "collapsed": false
   },
   "outputs": [],
   "source": [
    "result = pd.DataFrame({'Id': X_test.index.values, 'Sales': y_pred})\n",
    "result.to_csv('submission_%s.csv' % utils.timestamp(), index=False)"
   ]
  }
 ],
 "metadata": {
  "kernelspec": {
   "display_name": "Python 3",
   "language": "python",
   "name": "python3"
  },
  "language_info": {
   "codemirror_mode": {
    "name": "ipython",
    "version": 3
   },
   "file_extension": ".py",
   "mimetype": "text/x-python",
   "name": "python",
   "nbconvert_exporter": "python",
   "pygments_lexer": "ipython3",
   "version": "3.4.3"
  }
 },
 "nbformat": 4,
 "nbformat_minor": 0
}
