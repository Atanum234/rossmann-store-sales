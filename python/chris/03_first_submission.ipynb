{
 "cells": [
  {
   "cell_type": "code",
   "execution_count": 1,
   "metadata": {
    "collapsed": false
   },
   "outputs": [
    {
     "name": "stderr",
     "output_type": "stream",
     "text": [
      "/home/ckoerner/.local/lib/python3.4/site-packages/IPython/core/interactiveshell.py:2871: DtypeWarning: Columns (7) have mixed types. Specify dtype option on import or set low_memory=False.\n",
      "  interactivity=interactivity, compiler=compiler, result=result)\n"
     ]
    }
   ],
   "source": [
    "%matplotlib inline\n",
    "\n",
    "import pandas as pd\n",
    "import numpy as np\n",
    "\n",
    "stores = pd.read_csv('../data/store.csv')\n",
    "train = pd.read_csv('../data/train.csv', parse_dates = ['Date'])\n",
    "test = pd.read_csv('../data/test.csv', parse_dates = ['Date'])"
   ]
  },
  {
   "cell_type": "markdown",
   "metadata": {},
   "source": [
    "## Error Metrics"
   ]
  },
  {
   "cell_type": "code",
   "execution_count": 2,
   "metadata": {
    "collapsed": false,
    "scrolled": true
   },
   "outputs": [],
   "source": [
    "from sklearn.metrics import make_scorer\n",
    "\n",
    "def rmspe(y_true, y_pred):\n",
    "    \"\"\"Root Mean Square Percentage Error\n",
    "    Details about this function can be found on kaggle \n",
    "    https://www.kaggle.com/c/rossmann-store-sales/details/evaluation\"\"\"\n",
    "    idx = y_true != 0\n",
    "    return np.sqrt(np.mean(((y_true[idx] - y_pred[idx]) / y_true[idx]) ** 2))\n",
    "\n",
    "# Create a Scorer\n",
    "rmspe_scorer = make_scorer(rmspe, greater_is_better=False)"
   ]
  },
  {
   "cell_type": "markdown",
   "metadata": {},
   "source": [
    "## Data Pre-Processing and Feature Extraction"
   ]
  },
  {
   "cell_type": "code",
   "execution_count": 7,
   "metadata": {
    "collapsed": false,
    "scrolled": true
   },
   "outputs": [],
   "source": [
    "def process(input_data, store_data, sort_by=None, convertToArray=True):\n",
    "    \n",
    "    # Create a copy of the data\n",
    "    data = input_data.copy()\n",
    "    \n",
    "    if sort_by:\n",
    "        data.sort_values(by=sort_by, inplace=True)\n",
    "    \n",
    "    # Merge the Store information to the data\n",
    "    data = data.merge(store_data, on='Store')\n",
    "    data.drop(['Store'], axis=1, inplace=True)\n",
    "    \n",
    "    # Process the Date field\n",
    "    data['year'] = data.Date.apply(lambda x: x.year)\n",
    "    data['month'] = data.Date.apply(lambda x: x.month)\n",
    "    data['day'] = data.Date.apply(lambda x: x.day)\n",
    "    data['woy'] = data.Date.apply(lambda x: x.weekofyear)\n",
    "    data.drop(['Date'], axis = 1, inplace=True)\n",
    "    \n",
    "    # Process the Competition Open fields\n",
    "    data['CompetitionOpen'] = 12 * (data.year - data.CompetitionOpenSinceYear) + (data.month - data.CompetitionOpenSinceMonth)\n",
    "    data['CompetitionOpen'] = data.CompetitionOpen.apply(lambda x: x if x > 0 else 0)\n",
    "    data.drop(['CompetitionOpenSinceMonth', 'CompetitionOpenSinceYear'], axis=1, inplace=True)\n",
    "    \n",
    "    # Process the Promo Open field\n",
    "    data['PromoOpen'] = 12 * (data.year - data.Promo2SinceYear) + (data.woy - data.Promo2SinceWeek) / float(4)\n",
    "    data['PromoOpen'] = data.CompetitionOpen.apply(lambda x: x if x > 0 else 0)\n",
    "    data.drop(['Promo2SinceYear', 'Promo2SinceWeek'], axis=1, inplace=True)\n",
    "    \n",
    "    # Normalize State Holiday field\n",
    "    data['StateHoliday'] = data.StateHoliday.apply(lambda x: x if x in ['a', 'b', 'c'] else 0)\n",
    "    \n",
    "    # Dummy Coding\n",
    "    for dummy in ['StateHoliday', 'StoreType', 'Assortment']:\n",
    "        # Create dummy columns\n",
    "        data = pd.get_dummies(data, columns=[dummy])\n",
    "        \n",
    "        # Remove original column\n",
    "        if dummy in data.columns:\n",
    "            data.drop([dummy], axis=1, inplace=True)\n",
    "    \n",
    "    # Fix State Holiday columns, some values are not present in the testing data\n",
    "    for col in ['StateHoliday_0', 'StateHoliday_a', 'StateHoliday_b', 'StateHoliday_c']:\n",
    "        if col not in data.columns:\n",
    "            data[col] = np.zeros(len(data.index))\n",
    "    \n",
    "    # Drop unused Columns\n",
    "    data.drop(['PromoInterval'], axis=1, inplace=True)\n",
    "    \n",
    "    # Remove NaN values\n",
    "    data.fillna(0, inplace=True)\n",
    "    \n",
    "    # Make sure columns are sorted\n",
    "    data = data.reindex_axis(sorted(data.columns), axis=1)\n",
    "    \n",
    "    # training data\n",
    "    if 'Sales' in data.columns:\n",
    "    \n",
    "        # Consider only open stores for training. Closed stores wont count into the score\n",
    "        # data = data[data.Open != 0]\n",
    "    \n",
    "        # Use only Sales bigger then zero\n",
    "        # data = data[data.Sales > 0]\n",
    "\n",
    "        X_train = data.drop(['Sales', 'Customers'], axis=1)\n",
    "        y_train = data.Sales\n",
    "\n",
    "        if convertToArray:\n",
    "            return X_train.values, y_train.values\n",
    "\n",
    "        return X_train, y_train\n",
    "    \n",
    "    # testing data\n",
    "    else:\n",
    "        X_test = data.drop(['Id'], axis=1)\n",
    "\n",
    "        if convertToArray:\n",
    "            return X_test.values,\n",
    "\n",
    "        return X_test,"
   ]
  },
  {
   "cell_type": "code",
   "execution_count": null,
   "metadata": {
    "collapsed": false
   },
   "outputs": [],
   "source": [
    "X_train, y_train = process(train, stores, sort_by='Date')"
   ]
  },
  {
   "cell_type": "markdown",
   "metadata": {},
   "source": [
    "## Regression - Cross Validation"
   ]
  },
  {
   "cell_type": "code",
   "execution_count": null,
   "metadata": {
    "collapsed": false
   },
   "outputs": [],
   "source": [
    "from sklearn import cross_validation\n",
    "from sklearn.ensemble import RandomForestRegressor\n",
    "\n",
    "# Random Forest Classifier\n",
    "clf = RandomForestRegressor(n_estimators=30)\n",
    "\n",
    "scores = cross_validation.cross_val_score(clf, X_train, y_train, scoring=rmspe_scorer, cv=4)\n",
    "scores.mean()"
   ]
  },
  {
   "cell_type": "code",
   "execution_count": 6,
   "metadata": {
    "collapsed": false
   },
   "outputs": [
    {
     "data": {
      "text/plain": [
       "-0.72983324033974628"
      ]
     },
     "execution_count": 6,
     "metadata": {},
     "output_type": "execute_result"
    }
   ],
   "source": [
    "from sklearn import cross_validation\n",
    "from sklearn.neighbors import KNeighborsRegressor\n",
    "\n",
    "# KNN Classifier\n",
    "clf = KNeighborsRegressor(n_neighbors=5)\n",
    "\n",
    "scores = cross_validation.cross_val_score(clf, X_train, y_train, scoring=rmspe_scorer, cv=4)\n",
    "scores.mean()"
   ]
  },
  {
   "cell_type": "markdown",
   "metadata": {},
   "source": [
    "## Regression - Full Training"
   ]
  },
  {
   "cell_type": "code",
   "execution_count": 72,
   "metadata": {
    "collapsed": false
   },
   "outputs": [],
   "source": [
    "X_test, = process(test, stores, sort_by='Id')"
   ]
  },
  {
   "cell_type": "code",
   "execution_count": 109,
   "metadata": {
    "collapsed": false
   },
   "outputs": [],
   "source": [
    "from sklearn.ensemble import RandomForestRegressor\n",
    "\n",
    "# Random Forest Classifier\n",
    "clf = RandomForestRegressor(n_estimators=30)\n",
    "\n",
    "clf.fit(X_train, y_train)\n",
    "y_pred = clf.predict(X_test)"
   ]
  },
  {
   "cell_type": "code",
   "execution_count": 138,
   "metadata": {
    "collapsed": false
   },
   "outputs": [
    {
     "name": "stderr",
     "output_type": "stream",
     "text": [
      "/usr/local/lib/python3.4/site-packages/pandas/core/index.py:6031: RuntimeWarning: unorderable types: str() > int(), sort order is undefined for incomparable objects\n",
      "  result = result.union(other)\n"
     ]
    }
   ],
   "source": [
    "import time, datetime\n",
    "\n",
    "sales = pd.Series(y_pred)\n",
    "result = pd.DataFrame({'Id': test['Id'], 'Sales':sales})\n",
    "\n",
    "st = datetime.datetime.fromtimestamp(time.time()).strftime('%Y-%m-%d %H:%M:%S')\n",
    "result.to_csv('submission_%s.csv' % st, header=True, index=False)"
   ]
  }
 ],
 "metadata": {
  "kernelspec": {
   "display_name": "Python 3",
   "language": "python",
   "name": "python3"
  },
  "language_info": {
   "codemirror_mode": {
    "name": "ipython",
    "version": 3
   },
   "file_extension": ".py",
   "mimetype": "text/x-python",
   "name": "python",
   "nbconvert_exporter": "python",
   "pygments_lexer": "ipython3",
   "version": "3.4.3"
  }
 },
 "nbformat": 4,
 "nbformat_minor": 0
}
