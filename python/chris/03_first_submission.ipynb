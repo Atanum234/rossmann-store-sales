{
 "cells": [
  {
   "cell_type": "code",
   "execution_count": 1,
   "metadata": {
    "collapsed": false
   },
   "outputs": [
    {
     "name": "stderr",
     "output_type": "stream",
     "text": [
      "/home/ckoerner/.local/lib/python3.4/site-packages/IPython/core/interactiveshell.py:2871: DtypeWarning: Columns (7) have mixed types. Specify dtype option on import or set low_memory=False.\n",
      "  interactivity=interactivity, compiler=compiler, result=result)\n"
     ]
    }
   ],
   "source": [
    "%matplotlib inline\n",
    "\n",
    "import pandas as pd\n",
    "import numpy as np\n",
    "\n",
    "# Import all utility functions\n",
    "import utils\n",
    "import skutils\n",
    "\n",
    "stores = pd.read_csv('../data/store.csv')\n",
    "train = pd.read_csv('../data/train.csv', parse_dates = ['Date'])\n",
    "test = pd.read_csv('../data/test.csv', parse_dates = ['Date'])"
   ]
  },
  {
   "cell_type": "markdown",
   "metadata": {},
   "source": [
    "## Data Pre-Processing and Feature Extraction"
   ]
  },
  {
   "cell_type": "code",
   "execution_count": 2,
   "metadata": {
    "collapsed": false,
    "scrolled": true
   },
   "outputs": [],
   "source": [
    "def process(input_data, store_data, max_comp_distance=100000, sort_by=None):\n",
    "    \n",
    "    # Create a copy of the data\n",
    "    data = input_data.copy()\n",
    "    \n",
    "    if sort_by:\n",
    "        data.sort_values(by=sort_by, inplace=True)\n",
    "    \n",
    "    # Merge the Store information to the data\n",
    "    data = data.merge(store_data, on='Store')\n",
    "    data.drop(['Store'], axis=1, inplace=True)\n",
    "    \n",
    "    # Process the Date field\n",
    "    data['year'] = data.Date.apply(lambda x: x.year)\n",
    "    data['month'] = data.Date.apply(lambda x: x.month)\n",
    "    # data['day'] = data.Date.apply(lambda x: x.day)\n",
    "    data['woy'] = data.Date.apply(lambda x: x.weekofyear)\n",
    "    data.drop(['Date'], axis = 1, inplace=True)\n",
    "    \n",
    "    # Normalize Competition Distance\n",
    "    data['CompetitionDistance'] = data.CompetitionDistance.fillna(max_comp_distance)\n",
    "    \n",
    "    # Process the Competition Open fields\n",
    "    # data['CompetitionOpen'] = 12 * (data.year - data.CompetitionOpenSinceYear) + (data.month - data.CompetitionOpenSinceMonth)\n",
    "    # data['CompetitionOpen'] = data.CompetitionOpen.apply(lambda x: x if x > 0 else 0)\n",
    "    data.drop(['CompetitionOpenSinceMonth', 'CompetitionOpenSinceYear'], axis=1, inplace=True)\n",
    "    \n",
    "    # Process the Promo Open field\n",
    "    # data['PromoOpen'] = 12 * (data.year - data.Promo2SinceYear) + (data.woy - data.Promo2SinceWeek) / float(4)\n",
    "    # data['PromoOpen'] = data.CompetitionOpen.apply(lambda x: x if x > 0 else 0)\n",
    "    data.drop(['Promo2SinceYear', 'Promo2SinceWeek'], axis=1, inplace=True)\n",
    "    \n",
    "    # Normalize State Holiday field\n",
    "    data['StateHoliday'] = data.StateHoliday.apply(lambda x: x if x in ['a', 'b', 'c'] else 0)\n",
    "    \n",
    "    # Dummy Coding\n",
    "    for dummy in ['StateHoliday', 'StoreType', 'Assortment', 'DayOfWeek']:\n",
    "        # Create dummy columns\n",
    "        data = pd.get_dummies(data, columns=[dummy])\n",
    "        \n",
    "        # Remove original column\n",
    "        if dummy in data.columns:\n",
    "            data.drop([dummy], axis=1, inplace=True)\n",
    "    \n",
    "    # Fix State Holiday columns, some values are not present in the testing data\n",
    "    for col in ['StateHoliday_0', 'StateHoliday_a', 'StateHoliday_b', 'StateHoliday_c']:\n",
    "        if col not in data.columns:\n",
    "            data[col] = np.zeros(len(data.index))\n",
    "    \n",
    "    # Drop unused Columns\n",
    "    data.drop(['PromoInterval'], axis=1, inplace=True)\n",
    "    \n",
    "    # Make sure columns are sorted\n",
    "    data = data.reindex_axis(sorted(data.columns), axis=1)\n",
    "    \n",
    "    # training data\n",
    "    if 'Sales' in data.columns:\n",
    "        \n",
    "        # Remove NaN values\n",
    "        data.fillna(0, inplace=True)\n",
    "    \n",
    "        # Consider only open stores for training. Closed stores wont count into the score\n",
    "        data = data[data.Open != 0]\n",
    "    \n",
    "        # Use only Sales bigger then zero\n",
    "        data = data[data.Sales > 0]\n",
    "\n",
    "        return data.drop(['Sales', 'Customers'], axis=1), data.Sales\n",
    "    \n",
    "    # testing data\n",
    "    else:\n",
    "        # Remove NaN values\n",
    "        # appear only in Open column\n",
    "        data.fillna(1, inplace=True)\n",
    "        \n",
    "        return data.drop(['Id'], axis=1),"
   ]
  },
  {
   "cell_type": "code",
   "execution_count": 3,
   "metadata": {
    "collapsed": false
   },
   "outputs": [],
   "source": [
    "X_train, y_train = process(train, stores)"
   ]
  },
  {
   "cell_type": "markdown",
   "metadata": {},
   "source": [
    "## Regression - Cross Validation"
   ]
  },
  {
   "cell_type": "code",
   "execution_count": 4,
   "metadata": {
    "collapsed": false
   },
   "outputs": [
    {
     "name": "stdout",
     "output_type": "stream",
     "text": [
      "Cross validation score -0.28802898 (+- 0.03760398)\n"
     ]
    }
   ],
   "source": [
    "from sklearn.ensemble import RandomForestRegressor\n",
    "\n",
    "# Classifier Parameters\n",
    "clf_params = {\n",
    "  'n_estimators': 20\n",
    "}\n",
    "\n",
    "# Random Forest Classifier\n",
    "clf = RandomForestRegressor(random_state=42, **clf_params)\n",
    "\n",
    "scores = skutils.cross_val(clf, X_train, y_train, scoring=utils.rmspe)\n",
    "\n",
    "print(\"Cross validation score %.8f (+- %.8f)\" % (scores.mean(), scores.std()))"
   ]
  },
  {
   "cell_type": "code",
   "execution_count": 5,
   "metadata": {
    "collapsed": false
   },
   "outputs": [
    {
     "name": "stdout",
     "output_type": "stream",
     "text": [
      "Cross validation score -0.32068736 (+- 0.04321527)\n"
     ]
    }
   ],
   "source": [
    "from sklearn.neighbors import KNeighborsRegressor\n",
    "\n",
    "# KNN Classifier\n",
    "clf = KNeighborsRegressor(n_neighbors=5)\n",
    "\n",
    "scores = skutils.cross_val(clf, X_train, y_train, scoring=utils.rmspe)\n",
    "\n",
    "print(\"Cross validation score %.8f (+- %.8f)\" % (scores.mean(), scores.std()))"
   ]
  },
  {
   "cell_type": "markdown",
   "metadata": {},
   "source": [
    "## Regression - Full Training"
   ]
  },
  {
   "cell_type": "code",
   "execution_count": 4,
   "metadata": {
    "collapsed": false
   },
   "outputs": [],
   "source": [
    "X_test, = process(test, stores)"
   ]
  },
  {
   "cell_type": "code",
   "execution_count": 5,
   "metadata": {
    "collapsed": false
   },
   "outputs": [],
   "source": [
    "from sklearn.ensemble import RandomForestRegressor\n",
    "\n",
    "# Random Forest Classifier\n",
    "clf = RandomForestRegressor(**clf_params)\n",
    "\n",
    "clf.fit(X_train.values, y_train.values)\n",
    "y_pred = clf.predict(X_test.values)"
   ]
  },
  {
   "cell_type": "code",
   "execution_count": 6,
   "metadata": {
    "collapsed": false
   },
   "outputs": [],
   "source": [
    "result = pd.DataFrame({'Id': test['Id'], 'Sales': y_pred}).sort_values('Id')\n",
    "result.to_csv('submission_%s.csv' % utils.timestamp(), index=False)"
   ]
  }
 ],
 "metadata": {
  "kernelspec": {
   "display_name": "Python 3",
   "language": "python",
   "name": "python3"
  },
  "language_info": {
   "codemirror_mode": {
    "name": "ipython",
    "version": 3
   },
   "file_extension": ".py",
   "mimetype": "text/x-python",
   "name": "python",
   "nbconvert_exporter": "python",
   "pygments_lexer": "ipython3",
   "version": "3.4.3"
  }
 },
 "nbformat": 4,
 "nbformat_minor": 0
}
