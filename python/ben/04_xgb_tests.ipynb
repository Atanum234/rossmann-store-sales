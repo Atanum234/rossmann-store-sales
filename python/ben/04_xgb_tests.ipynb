{
 "cells": [
  {
   "cell_type": "code",
   "execution_count": 1,
   "metadata": {
    "collapsed": false
   },
   "outputs": [],
   "source": [
    "from time import time\n",
    "import datetime\n",
    "from operator import itemgetter\n",
    "import csv\n",
    "\n",
    "import utils\n",
    "import data_utils\n",
    "\n",
    "import matplotlib.pyplot as plt\n",
    "import seaborn\n",
    "seaborn.set()\n",
    "%matplotlib inline\n",
    "\n",
    "import numpy as np\n",
    "import pandas as pd\n",
    "\n",
    "from sklearn.linear_model import LinearRegression\n",
    "from sklearn.ensemble import RandomForestRegressor\n",
    "from sklearn import cross_validation as cv\n",
    "from sklearn.grid_search import RandomizedSearchCV\n",
    "\n",
    "import xgboost as xgb\n",
    "\n",
    "from scipy.stats import randint as sp_randint"
   ]
  },
  {
   "cell_type": "code",
   "execution_count": 2,
   "metadata": {
    "collapsed": false
   },
   "outputs": [
    {
     "name": "stderr",
     "output_type": "stream",
     "text": [
      "data_utils.py:126: SettingWithCopyWarning: \n",
      "A value is trying to be set on a copy of a slice from a DataFrame.\n",
      "Try using .loc[row_indexer,col_indexer] = value instead\n",
      "\n",
      "See the caveats in the documentation: http://pandas.pydata.org/pandas-docs/stable/indexing.html#indexing-view-versus-copy\n",
      "  tmp['Date'] = dataframe.Date + oneday\n",
      "data_utils.py:127: SettingWithCopyWarning: \n",
      "A value is trying to be set on a copy of a slice from a DataFrame.\n",
      "Try using .loc[row_indexer,col_indexer] = value instead\n",
      "\n",
      "See the caveats in the documentation: http://pandas.pydata.org/pandas-docs/stable/indexing.html#indexing-view-versus-copy\n",
      "  tmp['SchoolHoliday_m1'] = dataframe.SchoolHoliday\n",
      "data_utils.py:144: SettingWithCopyWarning: \n",
      "A value is trying to be set on a copy of a slice from a DataFrame.\n",
      "Try using .loc[row_indexer,col_indexer] = value instead\n",
      "\n",
      "See the caveats in the documentation: http://pandas.pydata.org/pandas-docs/stable/indexing.html#indexing-view-versus-copy\n",
      "  tmp['Date'] = dataframe.Date - oneday\n",
      "data_utils.py:145: SettingWithCopyWarning: \n",
      "A value is trying to be set on a copy of a slice from a DataFrame.\n",
      "Try using .loc[row_indexer,col_indexer] = value instead\n",
      "\n",
      "See the caveats in the documentation: http://pandas.pydata.org/pandas-docs/stable/indexing.html#indexing-view-versus-copy\n",
      "  tmp['SchoolHolidayEnding'] = dataframe.SchoolHoliday\n"
     ]
    }
   ],
   "source": [
    "train, test = data_utils.load_transformed_data()\n",
    "X_train, y_train = data_utils.get_raw_values(train)"
   ]
  },
  {
   "cell_type": "code",
   "execution_count": 3,
   "metadata": {
    "collapsed": false
   },
   "outputs": [],
   "source": [
    "xgb_params = {'colsample_bytree': 0.9930151354671028, 'silent': 1, 'subsample': 0.2, 'seed': 42, 'objective': 'reg:linear', 'max_depth': 30}\n",
    "xgb_params = {'colsample_bytree': 0.911271393369568, 'silent': 1, 'subsample': 0.4477518350772257, 'seed': 42, 'objective': 'reg:linear', 'max_depth': 24}"
   ]
  },
  {
   "cell_type": "code",
   "execution_count": 4,
   "metadata": {
    "collapsed": false
   },
   "outputs": [
    {
     "name": "stdout",
     "output_type": "stream",
     "text": [
      "[-0.11475192 -0.2041433 ]\n",
      "(-0.1594476058877804, 0.044695689852166098)\n"
     ]
    }
   ],
   "source": [
    "model = xgb.XGBRegressor(**xgb_params)\n",
    "folds = cv.KFold(n=len(y_train), n_folds=2, shuffle=True, random_state=42)\n",
    "scores = cv.cross_val_score(model, X_train, y_train, scoring=utils.rmspe_scorer, cv=folds, n_jobs=-1)\n",
    "print(scores)\n",
    "print(scores.mean(), scores.std())"
   ]
  },
  {
   "cell_type": "raw",
   "metadata": {},
   "source": [
    "[-0.12595064 -0.25407363 -0.12165947 -0.20667249 -0.13175442]\n",
    "-0.168022128034\n",
    "\n",
    "[-0.12860724 -0.26796104 -0.12220829 -0.19972838 -0.1323327 ]\n",
    "(-0.17016753028488979, 0.056384813513077982)\n",
    "\n",
    "mit Sales_std\n",
    "[-0.12475078 -0.25383396 -0.11894049 -0.20336864 -0.13148681]\n",
    "(-0.16647613685874313, 0.053324183772213485)\n",
    "\n",
    "mit harmonisierten schoolholidays\n",
    "[-0.11396432 -0.1221491  -0.20808699 -0.2559632  -0.12969333]\n",
    "(-0.16597138704859235, 0.056237843008668624)\n",
    "\n",
    "mit harmonisierten schoolholidays und rudimentärer schoolholidaysEnding (wird das ganze jahr über angewandt)\n",
    "[-0.11368339 -0.12263654 -0.20697416 -0.25970935 -0.12921112]\n",
    "(-0.16644291235732867, 0.057323961899435352)\n",
    "\n",
    "mit harmonisierten schoolholidays und schoolholidaysEnding (wird nur für letzte sommerferienwoche angewandt)\n",
    "[-0.11397358 -0.12252207 -0.20657907 -0.25596962 -0.13001546]\n",
    "(-0.16581195980970934, 0.05591597594953631)\n",
    "\n",
    "XGB maxdepth=20\n",
    "[-0.1138453  -0.20980442]\n",
    "(-0.16182485995200879, 0.047979563858691697)\n",
    "[-0.10083881 -0.1095055  -0.19483357 -0.25317442 -0.11699844]\n",
    "(-0.15507014786061549, 0.059451167368456743)\n",
    "LB: 0.12254\n",
    "\n",
    "XGB maxdepth=30, subsample=0.88...\n",
    "[-0.11643558 -0.20808796]\n",
    "(-0.16226177065518282, 0.045826186969609856)\n",
    "\n",
    "XGB subsamp=0.5\n",
    "[-0.1160918  -0.20365553]\n",
    "(-0.15987366435669725, 0.043781865239275838)\n",
    "\n",
    "XGB subsamp=1.5\n",
    "[-0.11727781 -0.21299583]\n",
    "(-0.16513682399131813, 0.047859010770934046)\n",
    "\n",
    "subsamp=0.2\n",
    "[-0.11887956 -0.20167444]\n",
    "(-0.16027699594002603, 0.041397439248514481)\n",
    "\n",
    "{'colsample_bytree': 0.911271393369568, 'silent': 1, 'subsample': 0.4477518350772257, 'seed': 42, 'objective': 'reg:linear', 'max_depth': 24}\n",
    "[-0.10328199 -0.12085862 -0.17412988 -0.23019736]\n",
    "(-0.15711696530454056, 0.049606087014762136)\n",
    "\n",
    "[-0.11475192 -0.2041433 ]\n",
    "(-0.1594476058877804, 0.044695689852166098)\n",
    "\n",
    "LB 0.12313"
   ]
  },
  {
   "cell_type": "code",
   "execution_count": null,
   "metadata": {
    "collapsed": false
   },
   "outputs": [],
   "source": [
    "X_train, y_train = data_utils.get_raw_values(train)\n",
    "X_test, y_test = data_utils.get_raw_values(test)\n",
    "model = xgb.XGBRegressor(**xgb_params)\n",
    "model.fit(X_train, y_train)\n",
    "y_pred = model.predict(X_test)\n",
    "data_utils.write_submission(y_pred, test)"
   ]
  }
 ],
 "metadata": {
  "kernelspec": {
   "display_name": "Python 2",
   "language": "python",
   "name": "python2"
  },
  "language_info": {
   "codemirror_mode": {
    "name": "ipython",
    "version": 2
   },
   "file_extension": ".py",
   "mimetype": "text/x-python",
   "name": "python",
   "nbconvert_exporter": "python",
   "pygments_lexer": "ipython2",
   "version": "2.7.10"
  }
 },
 "nbformat": 4,
 "nbformat_minor": 0
}
