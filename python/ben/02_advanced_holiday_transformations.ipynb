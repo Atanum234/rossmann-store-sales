{
 "cells": [
  {
   "cell_type": "markdown",
   "metadata": {},
   "source": [
    "# Advanced SchoolHoliday Transformations\n",
    "\n",
    "SchoolHolidays seem to be erroneous for some stores: during summer holidays (and others) some stores only have schoolholiday=1 during the week and 0 on weekends. intuitively this feels wrong an should not benefit the model. so this notebook (and now the harmonize_school_holidays function in data_utils) find weekends during longer holidays to set schoolholiday=1 also during these weekends for all stores.\n",
    "\n",
    "also add_column_for_last_holiday_week() marks the last week of summer holidays for each store. intuitively these two changes should make a difference and it indeed does marginally for CV score and improved LB score by >1%point."
   ]
  },
  {
   "cell_type": "code",
   "execution_count": 1,
   "metadata": {
    "collapsed": true
   },
   "outputs": [],
   "source": [
    "from time import time\n",
    "import datetime\n",
    "from operator import itemgetter\n",
    "import csv\n",
    "\n",
    "import utils\n",
    "import data_utils\n",
    "\n",
    "import matplotlib.pyplot as plt\n",
    "%matplotlib inline\n",
    "\n",
    "import numpy as np\n",
    "import pandas as pd\n",
    "\n",
    "from sklearn.linear_model import LinearRegression\n",
    "from sklearn.ensemble import RandomForestRegressor\n",
    "from sklearn import cross_validation as cv\n",
    "from sklearn.grid_search import RandomizedSearchCV\n",
    "\n",
    "from scipy.stats import randint as sp_randint"
   ]
  },
  {
   "cell_type": "raw",
   "metadata": {
    "collapsed": false
   },
   "source": [
    "train, test = data_utils.load_transformed_data()\n",
    "X_train, y_train = data_utils.get_raw_values(train)"
   ]
  },
  {
   "cell_type": "code",
   "execution_count": 2,
   "metadata": {
    "collapsed": false
   },
   "outputs": [],
   "source": [
    "test = pd.read_csv('../../data/test.csv')\n",
    "test.Date = test.Date.astype(np.datetime64)\n",
    "test = test.sort_values('Date').reset_index(drop=True)"
   ]
  },
  {
   "cell_type": "code",
   "execution_count": null,
   "metadata": {
    "collapsed": false
   },
   "outputs": [],
   "source": [
    "from pandas.tseries.offsets import DateOffset\n",
    "\n",
    "compare_offset = 1\n",
    "dow = 6\n",
    "\n",
    "oneday = DateOffset(days=compare_offset)\n",
    "tmp = test[['Store']]\n",
    "tmp['Date'] = test.Date + oneday\n",
    "tmp['SchoolHoliday_m1'] = test.SchoolHoliday\n",
    "tmp = pd.merge(test, tmp, how='left', on=['Store', 'Date'])\n",
    "tmp['SchoolHoliday_m1'] = tmp.SchoolHoliday_m1.fillna(0).astype(int)\n",
    "tmp['SchoolHoliday_m1'] = np.logical_and(tmp.DayOfWeek==dow, tmp.SchoolHoliday_m1==1)\n",
    "tmp['SchoolHoliday'] = np.where(np.logical_or(tmp.SchoolHoliday==1, tmp.SchoolHoliday_m1), 1, 0)\n",
    "tmp.drop('SchoolHoliday_m1', axis=1)[tmp.Store==600]\n",
    "#test[tmp.Store==600]"
   ]
  },
  {
   "cell_type": "raw",
   "metadata": {},
   "source": [
    "for i, r in test[test.Store<10].iterrows():\n",
    "    d_m1 = r['Date'] - oneday\n",
    "    d_m2 = r['Date'] - 2*oneday\n",
    "    d_p7 = r['Date'] + 7*oneday\n",
    "    back = test[test.Store==r['Store']][test.Date==d_m1]\n",
    "    school_hol = r.SchoolHoliday\n",
    "    school_hol = school_hol or (r.DayOfWeek == 6 and (back.SchoolHoliday==1).any())\n",
    "    back = test[test.Store==r['Store']][test.Date==d_m2]\n",
    "    school_hol = school_hol or (r.DayOfWeek == 7 and (back.SchoolHoliday==1).any())\n",
    "    fwd = test[test.Store==r['Store']][test.Date==d_p7]\n",
    "#    orig_row = test.iloc[i]\n",
    "#    test.iloc[i]['SchoolHoliday'] = school_hol\n",
    "#    test.iloc[i]['SchoolHolidayNextWeek'] = fwd.SchoolHoliday.any()"
   ]
  },
  {
   "cell_type": "code",
   "execution_count": null,
   "metadata": {
    "collapsed": false
   },
   "outputs": [],
   "source": [
    "plt.figure(figsize=(20, 5))\n",
    "plt.plot(test[test.Store==600].SchoolHoliday, alpha=0.5)\n",
    "plt.plot(test[test.Store==600].Open, alpha=0.5)\n",
    "plt.plot(test[test.Store==600].DayOfWeek, alpha=0.5)\n",
    "#plt.plot(test[test.Store==600].Sales, alpha=0.5)"
   ]
  }
 ],
 "metadata": {
  "kernelspec": {
   "display_name": "Python 2",
   "language": "python",
   "name": "python2"
  },
  "language_info": {
   "codemirror_mode": {
    "name": "ipython",
    "version": 2
   },
   "file_extension": ".py",
   "mimetype": "text/x-python",
   "name": "python",
   "nbconvert_exporter": "python",
   "pygments_lexer": "ipython2",
   "version": "2.7.10"
  }
 },
 "nbformat": 4,
 "nbformat_minor": 0
}
